{
 "cells": [
  {
   "cell_type": "code",
   "execution_count": null,
   "metadata": {},
   "outputs": [],
   "source": [
    "import matplotlib.pyplot as plt\n",
    "import cv2\n",
    "import numpy as np\n",
    "from daugman import find_iris"
   ]
  },
  {
   "cell_type": "markdown",
   "metadata": {},
   "source": [
    "## Tests"
   ]
  },
  {
   "cell_type": "code",
   "execution_count": null,
   "metadata": {},
   "outputs": [],
   "source": [
    "# read, square crop and grayscale image of an eye\n",
    "img = cv2.imread('eye.jpg')\n",
    "img = img[20:130, 20:130]\n",
    "gray = cv2.cvtColor(img, cv2.COLOR_BGR2GRAY)\n",
    "start_r = 10\n",
    "plt.imshow(gray, cmap='gray')\n",
    "cv2.imwrite('sq_eye.jpg', img)"
   ]
  },
  {
   "cell_type": "code",
   "execution_count": null,
   "metadata": {},
   "outputs": [],
   "source": [
    "%%timeit\n",
    "find_iris(gray, 10)\n",
    "# ON SERVER: 64.6 ms ± 619 µs per loop (mean ± std. dev. of 7 runs, 10 loops each)\n",
    "# ON NOTEBOOK: 389 ms ± 4.08 ms per loop (mean ± std. dev. of 7 runs, 1 loop each)\n",
    "# it is 73-85 time faster than https://github.com/Fejcvk/Iris-Comparator/blob/master/daugman.py"
   ]
  },
  {
   "cell_type": "code",
   "execution_count": null,
   "metadata": {},
   "outputs": [],
   "source": [
    "# get result\n",
    "find_iris(gray, 10)"
   ]
  },
  {
   "cell_type": "code",
   "execution_count": null,
   "metadata": {},
   "outputs": [],
   "source": [
    "# plot result\n",
    "out = img.copy()\n",
    "cv2.circle(out, (57, 54), 20, (0, 0, 255), 1)\n",
    "plt.imshow(out[::,::,::-1])"
   ]
  },
  {
   "cell_type": "code",
   "execution_count": null,
   "metadata": {},
   "outputs": [],
   "source": [
    "import cProfile\n",
    "# function profiling\n",
    "cProfile.run('find_iris(gray, 15)')"
   ]
  },
  {
   "cell_type": "code",
   "execution_count": null,
   "metadata": {},
   "outputs": [],
   "source": []
  }
 ],
 "metadata": {
  "kernelspec": {
   "display_name": "Python 3",
   "language": "python",
   "name": "python3"
  },
  "language_info": {
   "codemirror_mode": {
    "name": "ipython",
    "version": 3
   },
   "file_extension": ".py",
   "mimetype": "text/x-python",
   "name": "python",
   "nbconvert_exporter": "python",
   "pygments_lexer": "ipython3",
   "version": "3.6.5"
  }
 },
 "nbformat": 4,
 "nbformat_minor": 4
}
